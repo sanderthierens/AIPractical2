{
 "cells": [
  {
   "cell_type": "markdown",
   "metadata": {
    "id": "c1oHMvV8H4Hz"
   },
   "source": [
    "# Bayes Networks"
   ]
  },
  {
   "cell_type": "markdown",
   "metadata": {
    "id": "oG0HWxBAUIhf"
   },
   "source": [
    "## Install required packages"
   ]
  },
  {
   "cell_type": "code",
   "execution_count": 26,
   "metadata": {
    "id": "UOVUZ-d3H4H4"
   },
   "outputs": [
    {
     "name": "stderr",
     "output_type": "stream",
     "text": [
      "  ERROR: Command errored out with exit status 1:\n",
      "   command: 'C:\\Users\\Sander\\miniconda3\\envs\\AIPractical2\\python.exe' -u -c 'import sys, setuptools, tokenize; sys.argv[0] = '\"'\"'C:\\\\Users\\\\Sander\\\\AppData\\\\Local\\\\Temp\\\\pip-install-dkdtrdwk\\\\pygraphviz\\\\setup.py'\"'\"'; __file__='\"'\"'C:\\\\Users\\\\Sander\\\\AppData\\\\Local\\\\Temp\\\\pip-install-dkdtrdwk\\\\pygraphviz\\\\setup.py'\"'\"';f=getattr(tokenize, '\"'\"'open'\"'\"', open)(__file__);code=f.read().replace('\"'\"'\\r\\n'\"'\"', '\"'\"'\\n'\"'\"');f.close();exec(compile(code, __file__, '\"'\"'exec'\"'\"'))' bdist_wheel -d 'C:\\Users\\Sander\\AppData\\Local\\Temp\\pip-wheel-xohgdolo'\n",
      "       cwd: C:\\Users\\Sander\\AppData\\Local\\Temp\\pip-install-dkdtrdwk\\pygraphviz\\\n",
      "  Complete output (55 lines):\n",
      "  running bdist_wheel\n",
      "  running build\n",
      "  running build_py\n",
      "  creating build\n",
      "  creating build\\lib.win-amd64-3.7\n",
      "  creating build\\lib.win-amd64-3.7\\pygraphviz\n",
      "  copying pygraphviz\\agraph.py -> build\\lib.win-amd64-3.7\\pygraphviz\n",
      "  copying pygraphviz\\graphviz.py -> build\\lib.win-amd64-3.7\\pygraphviz\n",
      "  copying pygraphviz\\release.py -> build\\lib.win-amd64-3.7\\pygraphviz\n",
      "  copying pygraphviz\\version.py -> build\\lib.win-amd64-3.7\\pygraphviz\n",
      "  copying pygraphviz\\__init__.py -> build\\lib.win-amd64-3.7\\pygraphviz\n",
      "  creating build\\lib.win-amd64-3.7\\pygraphviz\\tests\n",
      "  copying pygraphviz\\tests\\test.py -> build\\lib.win-amd64-3.7\\pygraphviz\\tests\n",
      "  copying pygraphviz\\tests\\test_attributes.py -> build\\lib.win-amd64-3.7\\pygraphviz\\tests\n",
      "  copying pygraphviz\\tests\\test_attribute_defaults.py -> build\\lib.win-amd64-3.7\\pygraphviz\\tests\n",
      "  copying pygraphviz\\tests\\test_clear.py -> build\\lib.win-amd64-3.7\\pygraphviz\\tests\n",
      "  copying pygraphviz\\tests\\test_close.py -> build\\lib.win-amd64-3.7\\pygraphviz\\tests\n",
      "  copying pygraphviz\\tests\\test_drawing.py -> build\\lib.win-amd64-3.7\\pygraphviz\\tests\n",
      "  copying pygraphviz\\tests\\test_edge_attributes.py -> build\\lib.win-amd64-3.7\\pygraphviz\\tests\n",
      "  copying pygraphviz\\tests\\test_graph.py -> build\\lib.win-amd64-3.7\\pygraphviz\\tests\n",
      "  copying pygraphviz\\tests\\test_html.py -> build\\lib.win-amd64-3.7\\pygraphviz\\tests\n",
      "  copying pygraphviz\\tests\\test_layout.py -> build\\lib.win-amd64-3.7\\pygraphviz\\tests\n",
      "  copying pygraphviz\\tests\\test_node_attributes.py -> build\\lib.win-amd64-3.7\\pygraphviz\\tests\n",
      "  copying pygraphviz\\tests\\test_readwrite.py -> build\\lib.win-amd64-3.7\\pygraphviz\\tests\n",
      "  copying pygraphviz\\tests\\test_setup.py -> build\\lib.win-amd64-3.7\\pygraphviz\\tests\n",
      "  copying pygraphviz\\tests\\test_string.py -> build\\lib.win-amd64-3.7\\pygraphviz\\tests\n",
      "  copying pygraphviz\\tests\\test_subgraph.py -> build\\lib.win-amd64-3.7\\pygraphviz\\tests\n",
      "  copying pygraphviz\\tests\\test_unicode.py -> build\\lib.win-amd64-3.7\\pygraphviz\\tests\n",
      "  copying pygraphviz\\tests\\__init__.py -> build\\lib.win-amd64-3.7\\pygraphviz\\tests\n",
      "  running egg_info\n",
      "  writing pygraphviz.egg-info\\PKG-INFO\n",
      "  writing dependency_links to pygraphviz.egg-info\\dependency_links.txt\n",
      "  writing top-level names to pygraphviz.egg-info\\top_level.txt\n",
      "  reading manifest file 'pygraphviz.egg-info\\SOURCES.txt'\n",
      "  reading manifest template 'MANIFEST.in'\n",
      "  warning: no files found matching '*.png' under directory 'doc'\n",
      "  warning: no files found matching '*.html' under directory 'doc'\n",
      "  warning: no files found matching '*.txt' under directory 'doc'\n",
      "  warning: no files found matching '*.css' under directory 'doc'\n",
      "  warning: no previously-included files matching '*~' found anywhere in distribution\n",
      "  warning: no previously-included files matching '*.pyc' found anywhere in distribution\n",
      "  warning: no previously-included files matching '.svn' found anywhere in distribution\n",
      "  no previously-included directories found matching 'doc\\build'\n",
      "  writing manifest file 'pygraphviz.egg-info\\SOURCES.txt'\n",
      "  copying pygraphviz\\graphviz.i -> build\\lib.win-amd64-3.7\\pygraphviz\n",
      "  copying pygraphviz\\graphviz_wrap.c -> build\\lib.win-amd64-3.7\\pygraphviz\n",
      "  running build_ext\n",
      "  building 'pygraphviz._graphviz' extension\n",
      "  creating build\\temp.win-amd64-3.7\n",
      "  creating build\\temp.win-amd64-3.7\\Release\n",
      "  creating build\\temp.win-amd64-3.7\\Release\\pygraphviz\n",
      "  C:\\Program Files (x86)\\Microsoft Visual Studio\\2019\\BuildTools\\VC\\Tools\\MSVC\\14.26.28801\\bin\\HostX86\\x64\\cl.exe /c /nologo /Ox /W3 /GL /DNDEBUG /MD -IC:\\Users\\Sander\\miniconda3\\envs\\AIPractical2\\include -IC:\\Users\\Sander\\miniconda3\\envs\\AIPractical2\\include \"-IC:\\Program Files (x86)\\Microsoft Visual Studio\\2019\\BuildTools\\VC\\Tools\\MSVC\\14.26.28801\\include\" \"-IC:\\Program Files (x86)\\Windows Kits\\10\\include\\10.0.18362.0\\ucrt\" \"-IC:\\Program Files (x86)\\Windows Kits\\10\\include\\10.0.18362.0\\shared\" \"-IC:\\Program Files (x86)\\Windows Kits\\10\\include\\10.0.18362.0\\um\" \"-IC:\\Program Files (x86)\\Windows Kits\\10\\include\\10.0.18362.0\\winrt\" \"-IC:\\Program Files (x86)\\Windows Kits\\10\\include\\10.0.18362.0\\cppwinrt\" /Tcpygraphviz/graphviz_wrap.c /Fobuild\\temp.win-amd64-3.7\\Release\\pygraphviz/graphviz_wrap.obj\n",
      "  graphviz_wrap.c\n",
      "  pygraphviz/graphviz_wrap.c(2676): fatal error C1083: Cannot open include file: 'graphviz/cgraph.h': No such file or directory\n",
      "  error: command 'C:\\\\Program Files (x86)\\\\Microsoft Visual Studio\\\\2019\\\\BuildTools\\\\VC\\\\Tools\\\\MSVC\\\\14.26.28801\\\\bin\\\\HostX86\\\\x64\\\\cl.exe' failed with exit status 2\n",
      "  ----------------------------------------\n",
      "  ERROR: Failed building wheel for pygraphviz\n",
      "    ERROR: Command errored out with exit status 1:\n",
      "     command: 'C:\\Users\\Sander\\miniconda3\\envs\\AIPractical2\\python.exe' -u -c 'import sys, setuptools, tokenize; sys.argv[0] = '\"'\"'C:\\\\Users\\\\Sander\\\\AppData\\\\Local\\\\Temp\\\\pip-install-dkdtrdwk\\\\pygraphviz\\\\setup.py'\"'\"'; __file__='\"'\"'C:\\\\Users\\\\Sander\\\\AppData\\\\Local\\\\Temp\\\\pip-install-dkdtrdwk\\\\pygraphviz\\\\setup.py'\"'\"';f=getattr(tokenize, '\"'\"'open'\"'\"', open)(__file__);code=f.read().replace('\"'\"'\\r\\n'\"'\"', '\"'\"'\\n'\"'\"');f.close();exec(compile(code, __file__, '\"'\"'exec'\"'\"'))' install --record 'C:\\Users\\Sander\\AppData\\Local\\Temp\\pip-record-51m55v1r\\install-record.txt' --single-version-externally-managed --compile --install-headers 'C:\\Users\\Sander\\miniconda3\\envs\\AIPractical2\\Include\\pygraphviz'\n",
      "         cwd: C:\\Users\\Sander\\AppData\\Local\\Temp\\pip-install-dkdtrdwk\\pygraphviz\\\n",
      "    Complete output (57 lines):\n",
      "    running install\n",
      "    include_dirs=None\n",
      "    library_dirs=None\n",
      "    running build\n",
      "    running build_py\n",
      "    creating build\n",
      "    creating build\\lib.win-amd64-3.7\n",
      "    creating build\\lib.win-amd64-3.7\\pygraphviz\n",
      "    copying pygraphviz\\agraph.py -> build\\lib.win-amd64-3.7\\pygraphviz\n",
      "    copying pygraphviz\\graphviz.py -> build\\lib.win-amd64-3.7\\pygraphviz\n",
      "    copying pygraphviz\\release.py -> build\\lib.win-amd64-3.7\\pygraphviz\n",
      "    copying pygraphviz\\version.py -> build\\lib.win-amd64-3.7\\pygraphviz\n",
      "    copying pygraphviz\\__init__.py -> build\\lib.win-amd64-3.7\\pygraphviz\n",
      "    creating build\\lib.win-amd64-3.7\\pygraphviz\\tests\n",
      "    copying pygraphviz\\tests\\test.py -> build\\lib.win-amd64-3.7\\pygraphviz\\tests\n",
      "    copying pygraphviz\\tests\\test_attributes.py -> build\\lib.win-amd64-3.7\\pygraphviz\\tests\n",
      "    copying pygraphviz\\tests\\test_attribute_defaults.py -> build\\lib.win-amd64-3.7\\pygraphviz\\tests\n",
      "    copying pygraphviz\\tests\\test_clear.py -> build\\lib.win-amd64-3.7\\pygraphviz\\tests\n",
      "    copying pygraphviz\\tests\\test_close.py -> build\\lib.win-amd64-3.7\\pygraphviz\\tests\n",
      "    copying pygraphviz\\tests\\test_drawing.py -> build\\lib.win-amd64-3.7\\pygraphviz\\tests\n",
      "    copying pygraphviz\\tests\\test_edge_attributes.py -> build\\lib.win-amd64-3.7\\pygraphviz\\tests\n",
      "    copying pygraphviz\\tests\\test_graph.py -> build\\lib.win-amd64-3.7\\pygraphviz\\tests\n",
      "    copying pygraphviz\\tests\\test_html.py -> build\\lib.win-amd64-3.7\\pygraphviz\\tests\n",
      "    copying pygraphviz\\tests\\test_layout.py -> build\\lib.win-amd64-3.7\\pygraphviz\\tests\n",
      "    copying pygraphviz\\tests\\test_node_attributes.py -> build\\lib.win-amd64-3.7\\pygraphviz\\tests\n",
      "    copying pygraphviz\\tests\\test_readwrite.py -> build\\lib.win-amd64-3.7\\pygraphviz\\tests\n",
      "    copying pygraphviz\\tests\\test_setup.py -> build\\lib.win-amd64-3.7\\pygraphviz\\tests\n",
      "    copying pygraphviz\\tests\\test_string.py -> build\\lib.win-amd64-3.7\\pygraphviz\\tests\n",
      "    copying pygraphviz\\tests\\test_subgraph.py -> build\\lib.win-amd64-3.7\\pygraphviz\\tests\n",
      "    copying pygraphviz\\tests\\test_unicode.py -> build\\lib.win-amd64-3.7\\pygraphviz\\tests\n",
      "    copying pygraphviz\\tests\\__init__.py -> build\\lib.win-amd64-3.7\\pygraphviz\\tests\n",
      "    running egg_info\n",
      "    writing pygraphviz.egg-info\\PKG-INFO\n",
      "    writing dependency_links to pygraphviz.egg-info\\dependency_links.txt\n",
      "    writing top-level names to pygraphviz.egg-info\\top_level.txt\n",
      "    reading manifest file 'pygraphviz.egg-info\\SOURCES.txt'\n",
      "    reading manifest template 'MANIFEST.in'\n",
      "    warning: no files found matching '*.png' under directory 'doc'\n",
      "    warning: no files found matching '*.html' under directory 'doc'\n",
      "    warning: no files found matching '*.txt' under directory 'doc'\n",
      "    warning: no files found matching '*.css' under directory 'doc'\n",
      "    warning: no previously-included files matching '*~' found anywhere in distribution\n",
      "    warning: no previously-included files matching '*.pyc' found anywhere in distribution\n",
      "    warning: no previously-included files matching '.svn' found anywhere in distribution\n",
      "    no previously-included directories found matching 'doc\\build'\n",
      "    writing manifest file 'pygraphviz.egg-info\\SOURCES.txt'\n",
      "    copying pygraphviz\\graphviz.i -> build\\lib.win-amd64-3.7\\pygraphviz\n",
      "    copying pygraphviz\\graphviz_wrap.c -> build\\lib.win-amd64-3.7\\pygraphviz\n",
      "    running build_ext\n",
      "    building 'pygraphviz._graphviz' extension\n",
      "    creating build\\temp.win-amd64-3.7\n",
      "    creating build\\temp.win-amd64-3.7\\Release\n",
      "    creating build\\temp.win-amd64-3.7\\Release\\pygraphviz\n",
      "    C:\\Program Files (x86)\\Microsoft Visual Studio\\2019\\BuildTools\\VC\\Tools\\MSVC\\14.26.28801\\bin\\HostX86\\x64\\cl.exe /c /nologo /Ox /W3 /GL /DNDEBUG /MD -IC:\\Users\\Sander\\miniconda3\\envs\\AIPractical2\\include -IC:\\Users\\Sander\\miniconda3\\envs\\AIPractical2\\include \"-IC:\\Program Files (x86)\\Microsoft Visual Studio\\2019\\BuildTools\\VC\\Tools\\MSVC\\14.26.28801\\include\" \"-IC:\\Program Files (x86)\\Windows Kits\\10\\include\\10.0.18362.0\\ucrt\" \"-IC:\\Program Files (x86)\\Windows Kits\\10\\include\\10.0.18362.0\\shared\" \"-IC:\\Program Files (x86)\\Windows Kits\\10\\include\\10.0.18362.0\\um\" \"-IC:\\Program Files (x86)\\Windows Kits\\10\\include\\10.0.18362.0\\winrt\" \"-IC:\\Program Files (x86)\\Windows Kits\\10\\include\\10.0.18362.0\\cppwinrt\" /Tcpygraphviz/graphviz_wrap.c /Fobuild\\temp.win-amd64-3.7\\Release\\pygraphviz/graphviz_wrap.obj\n",
      "    graphviz_wrap.c\n",
      "    pygraphviz/graphviz_wrap.c(2676): fatal error C1083: Cannot open include file: 'graphviz/cgraph.h': No such file or directory\n",
      "    error: command 'C:\\\\Program Files (x86)\\\\Microsoft Visual Studio\\\\2019\\\\BuildTools\\\\VC\\\\Tools\\\\MSVC\\\\14.26.28801\\\\bin\\\\HostX86\\\\x64\\\\cl.exe' failed with exit status 2\n",
      "    ----------------------------------------\n",
      "ERROR: Command errored out with exit status 1: 'C:\\Users\\Sander\\miniconda3\\envs\\AIPractical2\\python.exe' -u -c 'import sys, setuptools, tokenize; sys.argv[0] = '\"'\"'C:\\\\Users\\\\Sander\\\\AppData\\\\Local\\\\Temp\\\\pip-install-dkdtrdwk\\\\pygraphviz\\\\setup.py'\"'\"'; __file__='\"'\"'C:\\\\Users\\\\Sander\\\\AppData\\\\Local\\\\Temp\\\\pip-install-dkdtrdwk\\\\pygraphviz\\\\setup.py'\"'\"';f=getattr(tokenize, '\"'\"'open'\"'\"', open)(__file__);code=f.read().replace('\"'\"'\\r\\n'\"'\"', '\"'\"'\\n'\"'\"');f.close();exec(compile(code, __file__, '\"'\"'exec'\"'\"'))' install --record 'C:\\Users\\Sander\\AppData\\Local\\Temp\\pip-record-51m55v1r\\install-record.txt' --single-version-externally-managed --compile --install-headers 'C:\\Users\\Sander\\miniconda3\\envs\\AIPractical2\\Include\\pygraphviz' Check the logs for full command output.\n"
     ]
    }
   ],
   "source": [
    "#They take a while to install\n",
    "\n",
    "#Uncomment if you are using colab\n",
    "#!apt install libgraphviz-dev \n",
    "\n",
    "!pip3 install pomegranate --quiet\n",
    "!pip3 install pygraphviz  --quiet\n",
    "#!pip3 install pandas \n",
    "#!pip3 install matplotlib\n"
   ]
  },
  {
   "cell_type": "code",
   "execution_count": 9,
   "metadata": {},
   "outputs": [
    {
     "name": "stdout",
     "output_type": "stream",
     "text": [
      "Requirement already satisfied: pandas in c:\\users\\sander\\miniconda3\\envs\\aipractical2\\lib\\site-packages (1.1.4)\n",
      "Requirement already satisfied: numpy>=1.15.4 in c:\\users\\sander\\miniconda3\\envs\\aipractical2\\lib\\site-packages (from pandas) (1.19.4)\n",
      "Requirement already satisfied: pytz>=2017.2 in c:\\users\\sander\\miniconda3\\envs\\aipractical2\\lib\\site-packages (from pandas) (2020.4)\n",
      "Requirement already satisfied: python-dateutil>=2.7.3 in c:\\users\\sander\\miniconda3\\envs\\aipractical2\\lib\\site-packages (from pandas) (2.8.1)\n",
      "Requirement already satisfied: six>=1.5 in c:\\users\\sander\\miniconda3\\envs\\aipractical2\\lib\\site-packages (from python-dateutil>=2.7.3->pandas) (1.15.0)\n",
      "Requirement already satisfied: matplotlib in c:\\users\\sander\\miniconda3\\envs\\aipractical2\\lib\\site-packages (3.3.2)\n",
      "Requirement already satisfied: kiwisolver>=1.0.1 in c:\\users\\sander\\miniconda3\\envs\\aipractical2\\lib\\site-packages (from matplotlib) (1.3.1)\n",
      "Requirement already satisfied: numpy>=1.15 in c:\\users\\sander\\miniconda3\\envs\\aipractical2\\lib\\site-packages (from matplotlib) (1.19.4)\n",
      "Requirement already satisfied: pillow>=6.2.0 in c:\\users\\sander\\miniconda3\\envs\\aipractical2\\lib\\site-packages (from matplotlib) (8.0.1)\n",
      "Requirement already satisfied: pyparsing!=2.0.4,!=2.1.2,!=2.1.6,>=2.0.3 in c:\\users\\sander\\miniconda3\\envs\\aipractical2\\lib\\site-packages (from matplotlib) (2.4.7)\n",
      "Requirement already satisfied: certifi>=2020.06.20 in c:\\users\\sander\\miniconda3\\envs\\aipractical2\\lib\\site-packages (from matplotlib) (2020.6.20)\n",
      "Requirement already satisfied: cycler>=0.10 in c:\\users\\sander\\miniconda3\\envs\\aipractical2\\lib\\site-packages (from matplotlib) (0.10.0)\n",
      "Requirement already satisfied: python-dateutil>=2.1 in c:\\users\\sander\\miniconda3\\envs\\aipractical2\\lib\\site-packages (from matplotlib) (2.8.1)\n",
      "Requirement already satisfied: six in c:\\users\\sander\\miniconda3\\envs\\aipractical2\\lib\\site-packages (from cycler>=0.10->matplotlib) (1.15.0)\n"
     ]
    }
   ],
   "source": [
    "!pip3 install pandas \n",
    "!pip3 install matplotlib"
   ]
  },
  {
   "cell_type": "markdown",
   "metadata": {
    "id": "EH1EJ5_KH4IP"
   },
   "source": [
    "## Libraries"
   ]
  },
  {
   "cell_type": "code",
   "execution_count": 1,
   "metadata": {
    "id": "2Ffp_adxH4IX"
   },
   "outputs": [],
   "source": [
    "from pomegranate import BayesianNetwork, DiscreteDistribution, Node, ConditionalProbabilityTable\n",
    "from matplotlib.pyplot import figure\n",
    "import pandas as pd\n",
    "# Cosmetics\n",
    "%config InlineBackend.figure_format ='retina'\n",
    "pd.options.display.float_format = '{:,.3f}'.format\n",
    "def print_df(array):\n",
    "    print(pd.DataFrame(array).to_string(header=False,index = False))\n",
    "    "
   ]
  },
  {
   "cell_type": "markdown",
   "metadata": {
    "id": "kJkHQGE9H4Jq"
   },
   "source": [
    "## Helper Functions\n",
    "We integrate the functionalities of the library with code below. "
   ]
  },
  {
   "cell_type": "code",
   "execution_count": 2,
   "metadata": {
    "cellView": "form",
    "id": "Y30Ev-zYH4Js"
   },
   "outputs": [],
   "source": [
    "#@title \n",
    "\n",
    "# Updates and plot the model and infers the conditional probability\n",
    "def add_conditional_variable(variable_name,statistics,ordered_conditionals,\n",
    "                             ordered_parents,distributions,nodes,model,plot=True):\n",
    "    kopy = ordered_conditionals.copy()\n",
    "    if variable_name not in distributions.keys():\n",
    "        distribution = ConditionalProbabilityTable(\n",
    "            explicit_probabilities(ordered_conditionals.copy()[variable_name]),\n",
    "            [distributions[parent] for parent in ordered_parents[variable_name]]\n",
    "            )\n",
    "        distributions[variable_name] = distribution \n",
    "        node = Node(distribution, variable_name)\n",
    "        nodes[variable_name] = node\n",
    "        model.add_states(node)\n",
    "        for parent in ordered_parents[variable_name]:\n",
    "            model.add_edge(nodes[parent], node)   \n",
    "    if plot:\n",
    "        figure(dpi=160) \n",
    "        model.plot()\n",
    "    model.bake()\n",
    "    # Inferred probability of 'Y'\n",
    "    inferred_probability = model.marginal()[-1].parameters[0]['Y']\n",
    "    print(f'{variable_name}: \\n\\t Inferred probability = {inferred_probability:.3f}') \n",
    "    print( f'\\t Statistic = {statistics[variable_name]}')\n",
    "    assert kopy == ordered_conditionals\n",
    "\n",
    "# Needed to explicitly state probabilities for Y and N\n",
    "def explicit_probabilities(array):\n",
    "    new_array = []\n",
    "    for row in array:\n",
    "        Y_row = row.copy()\n",
    "        N_row = row.copy()\n",
    "        Y_row.insert(-1, 'Y'),\n",
    "        N_row.insert(-1, 'N'),\n",
    "        N_row[-1] = 1 - row[-1]\n",
    "        new_array.extend([Y_row,N_row])\n",
    "    return new_array\n",
    "\n",
    "# Helper function to increase readability\n",
    "def print_predict_proba(model, nodes, obs_states, target=None):\n",
    "    distrs = model.predict_proba([obs_states])[0]\n",
    "    evidence = []\n",
    "    uknown_distrs = []\n",
    "    uknown_variables = []\n",
    "    for name, state, distr in zip(nodes.keys(),obs_states,distrs):\n",
    "        if state == 'Y':\n",
    "            evidence.append(name)\n",
    "        elif state == 'N':\n",
    "            evidence.append('No_'+name)\n",
    "        else:\n",
    "            uknown_distrs.append(distr)\n",
    "            uknown_variables.append(name)\n",
    "    # We recapitulate the evidence and print the probabilities\n",
    "    print(f'When C = {\", \".join(evidence)}:')\n",
    "    for name, distr in zip(uknown_variables,uknown_distrs):\n",
    "        if not target or target == name:\n",
    "            print(f'Prob({name}|C): {distr.parameters[0][\"Y\"]:.3f}')\n",
    "    print()\n"
   ]
  },
  {
   "cell_type": "markdown",
   "metadata": {
    "id": "hHL5psKqH4Il"
   },
   "source": [
    "## Inserting data from the medical report"
   ]
  },
  {
   "cell_type": "code",
   "execution_count": 3,
   "metadata": {
    "id": "l4bjgjOgH4Ip"
   },
   "outputs": [],
   "source": [
    "# Fill in the following dictionary with the names of variables (keys) and their probabilities (values).\n",
    "# Only two states per variable ('Y' and 'N'), shown probabilities for 'Y'.\n",
    "# Variables with unknown statistic should be listed with value None\n",
    "statistics = {'Weakened_immune': .053,\n",
    "              'Smoking': .29,\n",
    "               'Pneumonia': .018,\n",
    "                'Lung cancer': .037,\n",
    "                 'Bronchitis': 0.09,\n",
    "                    'Common cold': .37,\n",
    "                     'Fever': .085,\n",
    "                        'Loose cough': .19,\n",
    "                            'Chest pain': .14,\n",
    "                                'Shortness of breath': .18,\n",
    "                                    'Runny nose': None,\n",
    "                                     'other': None}\n",
    "\n",
    "# Update the following dictionary with the name of their dependecies to express the \n",
    "# Topology as a list of parent nodes\n",
    "ordered_parents = {variable: [] for variable in statistics.keys()}\n",
    "ordered_parents.update({'Shortness of breath': ['Bronchitis', 'Lung cancer', 'Pneumonia', 'other'], 'Chest pain': ['Lung cancer', 'Pneumonia', 'other'],\n",
    "                        'Fever':['Pneumonia','Common cold', 'other'], 'Runny nose':['Common cold', 'other'], 'Loose cough':['Bronchitis','Pneumonia','other'] })\n",
    "\n",
    "# Fill in the following CPT table with the states of the ordered parents ('N','Y', None if not known)\n",
    "# corresponding to the event P(X='Y'|parents(X)). The probabilies P(X='N'|parents(X)) \n",
    "# will be automatically calculated later on.\n",
    "ordered_conditionals = { 'Effect': [['Y', .8],\n",
    "                                      ['N',.6]]}\n",
    "ordered_conditionals = { 'Shortness of breath': [['Y', .8],['Y',.5],['Y', .5],['Y', .1]], 'Chest pain': [['Y', .9],['Y', .9],['Y', .10]],\n",
    "                        'Loose cough': [['Y', .9],['Y', .9],['Y', .1]], 'Fever': [['Y', .94],['Y', .2], ['Y',.001]], 'Runny nose': [['Y', .95],['Y', .01]] } "
   ]
  },
  {
   "cell_type": "markdown",
   "metadata": {
    "id": "IJYi2SKcnAla"
   },
   "source": [
    "## Number of parameters"
   ]
  },
  {
   "cell_type": "code",
   "execution_count": 5,
   "metadata": {
    "colab": {
     "base_uri": "https://localhost:8080/",
     "height": 35
    },
    "id": "86WXyCf7nFMA",
    "outputId": "e2c6efb1-5651-4f07-bcd7-6beb0fc254a6"
   },
   "outputs": [
    {
     "name": "stdout",
     "output_type": "stream",
     "text": [
      " Total number of parameters: 0\n"
     ]
    }
   ],
   "source": [
    "# Number of parameters required - complete CTP parameters\n",
    "total_parameters = 0\n",
    "for variable, parents in ordered_parents.items():\n",
    "    # Write the correct formula to count the required parameters of a variable\n",
    "    # TODO \n",
    "    total_parameters += 0\n",
    "print(' Total number of parameters:', total_parameters)"
   ]
  },
  {
   "cell_type": "markdown",
   "metadata": {
    "id": "DnqVp2gAH4I3"
   },
   "source": [
    "## Draw the topology"
   ]
  },
  {
   "cell_type": "code",
   "execution_count": 4,
   "metadata": {
    "colab": {
     "base_uri": "https://localhost:8080/",
     "height": 532
    },
    "id": "r2bOOqIjH4I5",
    "outputId": "eee3a322-638d-4f4e-cca6-cd31c7ceaab8"
   },
   "outputs": [
    {
     "ename": "PermissionError",
     "evalue": "[Errno 13] Permission denied: 'C:\\\\Users\\\\Sander\\\\AppData\\\\Local\\\\Temp\\\\tmpkk6fe55x'",
     "output_type": "error",
     "traceback": [
      "\u001b[1;31m---------------------------------------------------------------------------\u001b[0m",
      "\u001b[1;31mPermissionError\u001b[0m                           Traceback (most recent call last)",
      "\u001b[1;32m<ipython-input-4-8e64c46feabf>\u001b[0m in \u001b[0;36m<module>\u001b[1;34m\u001b[0m\n\u001b[0;32m     25\u001b[0m \u001b[1;31m# Plot\u001b[0m\u001b[1;33m\u001b[0m\u001b[1;33m\u001b[0m\u001b[1;33m\u001b[0m\u001b[0m\n\u001b[0;32m     26\u001b[0m \u001b[0mfigure\u001b[0m\u001b[1;33m(\u001b[0m\u001b[0mdpi\u001b[0m\u001b[1;33m=\u001b[0m\u001b[1;36m160\u001b[0m\u001b[1;33m)\u001b[0m\u001b[1;33m\u001b[0m\u001b[1;33m\u001b[0m\u001b[0m\n\u001b[1;32m---> 27\u001b[1;33m \u001b[0msketch_model\u001b[0m\u001b[1;33m.\u001b[0m\u001b[0mplot\u001b[0m\u001b[1;33m(\u001b[0m\u001b[1;33m)\u001b[0m\u001b[1;33m\u001b[0m\u001b[1;33m\u001b[0m\u001b[0m\n\u001b[0m",
      "\u001b[1;32m~\\miniconda3\\envs\\AIPractical2\\lib\\site-packages\\pomegranate\\BayesianNetwork.pyx\u001b[0m in \u001b[0;36mpomegranate.BayesianNetwork.BayesianNetwork.plot\u001b[1;34m()\u001b[0m\n",
      "\u001b[1;32m~\\miniconda3\\envs\\AIPractical2\\lib\\site-packages\\pomegranate\\BayesianNetwork.pyx\u001b[0m in \u001b[0;36mpomegranate.BayesianNetwork.BayesianNetwork.plot\u001b[1;34m()\u001b[0m\n",
      "\u001b[1;32m~\\miniconda3\\envs\\AIPractical2\\lib\\site-packages\\pygraphviz\\agraph.py\u001b[0m in \u001b[0;36mdraw\u001b[1;34m(self, path, format, prog, args)\u001b[0m\n\u001b[0;32m   1516\u001b[0m \u001b[1;33m\u001b[0m\u001b[0m\n\u001b[0;32m   1517\u001b[0m         \u001b[1;32mif\u001b[0m \u001b[0mpath\u001b[0m \u001b[1;32mis\u001b[0m \u001b[1;32mnot\u001b[0m \u001b[1;32mNone\u001b[0m\u001b[1;33m:\u001b[0m\u001b[1;33m\u001b[0m\u001b[1;33m\u001b[0m\u001b[0m\n\u001b[1;32m-> 1518\u001b[1;33m             \u001b[0mfh\u001b[0m \u001b[1;33m=\u001b[0m \u001b[0mself\u001b[0m\u001b[1;33m.\u001b[0m\u001b[0m_get_fh\u001b[0m\u001b[1;33m(\u001b[0m\u001b[0mpath\u001b[0m\u001b[1;33m,\u001b[0m \u001b[1;34m'w+b'\u001b[0m\u001b[1;33m)\u001b[0m\u001b[1;33m\u001b[0m\u001b[1;33m\u001b[0m\u001b[0m\n\u001b[0m\u001b[0;32m   1519\u001b[0m             \u001b[0mfh\u001b[0m\u001b[1;33m.\u001b[0m\u001b[0mwrite\u001b[0m\u001b[1;33m(\u001b[0m\u001b[0mdata\u001b[0m\u001b[1;33m)\u001b[0m\u001b[1;33m\u001b[0m\u001b[1;33m\u001b[0m\u001b[0m\n\u001b[0;32m   1520\u001b[0m             \u001b[1;32mif\u001b[0m \u001b[0mis_string_like\u001b[0m\u001b[1;33m(\u001b[0m\u001b[0mpath\u001b[0m\u001b[1;33m)\u001b[0m\u001b[1;33m:\u001b[0m\u001b[1;33m\u001b[0m\u001b[1;33m\u001b[0m\u001b[0m\n",
      "\u001b[1;32m~\\miniconda3\\envs\\AIPractical2\\lib\\site-packages\\pygraphviz\\agraph.py\u001b[0m in \u001b[0;36m_get_fh\u001b[1;34m(self, path, mode)\u001b[0m\n\u001b[0;32m   1545\u001b[0m                 \u001b[0mfh\u001b[0m \u001b[1;33m=\u001b[0m \u001b[0mos\u001b[0m\u001b[1;33m.\u001b[0m\u001b[0mpopen\u001b[0m\u001b[1;33m(\u001b[0m\u001b[1;34m\"bzcat \"\u001b[0m \u001b[1;33m+\u001b[0m \u001b[0mpath\u001b[0m\u001b[1;33m)\u001b[0m  \u001b[1;31m# probably not portable\u001b[0m\u001b[1;33m\u001b[0m\u001b[1;33m\u001b[0m\u001b[0m\n\u001b[0;32m   1546\u001b[0m             \u001b[1;32melse\u001b[0m\u001b[1;33m:\u001b[0m\u001b[1;33m\u001b[0m\u001b[1;33m\u001b[0m\u001b[0m\n\u001b[1;32m-> 1547\u001b[1;33m                 \u001b[0mfh\u001b[0m \u001b[1;33m=\u001b[0m \u001b[0mopen\u001b[0m\u001b[1;33m(\u001b[0m\u001b[0mpath\u001b[0m\u001b[1;33m,\u001b[0m \u001b[0mmode\u001b[0m\u001b[1;33m=\u001b[0m\u001b[0mmode\u001b[0m\u001b[1;33m)\u001b[0m\u001b[1;33m\u001b[0m\u001b[1;33m\u001b[0m\u001b[0m\n\u001b[0m\u001b[0;32m   1548\u001b[0m         \u001b[1;32melif\u001b[0m \u001b[0mhasattr\u001b[0m\u001b[1;33m(\u001b[0m\u001b[0mpath\u001b[0m\u001b[1;33m,\u001b[0m \u001b[1;34m'write'\u001b[0m\u001b[1;33m)\u001b[0m\u001b[1;33m:\u001b[0m\u001b[1;33m\u001b[0m\u001b[1;33m\u001b[0m\u001b[0m\n\u001b[0;32m   1549\u001b[0m             \u001b[1;31m# Note, mode of file handle is unchanged.\u001b[0m\u001b[1;33m\u001b[0m\u001b[1;33m\u001b[0m\u001b[1;33m\u001b[0m\u001b[0m\n",
      "\u001b[1;31mPermissionError\u001b[0m: [Errno 13] Permission denied: 'C:\\\\Users\\\\Sander\\\\AppData\\\\Local\\\\Temp\\\\tmpkk6fe55x'"
     ]
    },
    {
     "data": {
      "text/plain": [
       "<Figure size 960x640 with 0 Axes>"
      ]
     },
     "metadata": {},
     "output_type": "display_data"
    }
   ],
   "source": [
    "# We sketch a dummy model only to see the graph\n",
    "sketch_model = BayesianNetwork(\"Medical Report - sketch\")\n",
    "\n",
    "# Topology expressed with edges \n",
    "edges = []\n",
    "for variable_name, parents in ordered_parents.items():\n",
    "    for parent in parents:\n",
    "        edge = [parent, variable_name]\n",
    "        edges.append(edge)\n",
    "        \n",
    "# Dummy variables\n",
    "nodes = {}\n",
    "for variable_name in statistics.keys():\n",
    "    distribution = DiscreteDistribution({'Y': .5, 'N': .5})\n",
    "    node = Node(distribution, name=variable_name)\n",
    "    nodes[variable_name] = node\n",
    "    \n",
    "# Add States    \n",
    "sketch_model.add_states(*nodes.values())\n",
    "\n",
    "# Add Edges\n",
    "for edge in edges:\n",
    "    sketch_model.add_edge(nodes[edge[0]], nodes[edge[1]])\n",
    "    \n",
    "# Plot\n",
    "figure(dpi=160)\n",
    "sketch_model.plot()"
   ]
  },
  {
   "cell_type": "markdown",
   "metadata": {
    "id": "fVLldN_EH4JM"
   },
   "source": [
    "## Belief propagation"
   ]
  },
  {
   "cell_type": "code",
   "execution_count": 7,
   "metadata": {
    "colab": {
     "base_uri": "https://localhost:8080/",
     "height": 53
    },
    "id": "illuElogH4JP",
    "outputId": "6ebd2bd3-bb65-40d5-8b4e-34b8f7882571"
   },
   "outputs": [
    {
     "name": "stdout",
     "output_type": "stream",
     "text": [
      " 1) Cause\n",
      " 2) Effect\n"
     ]
    }
   ],
   "source": [
    "# Let us initialize the real model\n",
    "model = BayesianNetwork(\"Medical Report\")\n",
    "\n",
    "# Topology expressed as list of children\n",
    "ordered_children = {variable: [] for variable in statistics.keys()}\n",
    "for edge in edges:\n",
    "    ordered_children[edge[0]].append(edge[1])\n",
    "\n",
    "# Independent variables and leaves\n",
    "independent_variables = [variable for variable, parents in ordered_parents.items() if not parents]\n",
    "leaves = [variable for variable, children in ordered_children.items() if not children]\n",
    "\n",
    "# Write a function that lists the variables in stages so that the dependencies of a variable \n",
    "# are always coming from a previous stage  \n",
    "def propagate_net(independent_variables,leaves,ordered_parents):\n",
    "    belief_propagation = [['Cause'], ['Effect']]\n",
    "    return belief_propagation\n",
    "\n",
    "# Check the previous graph to see how at every stage, all the parents are already known\n",
    "belief_propagation = propagate_net(independent_variables,leaves,ordered_parents)\n",
    "for stage, variables in enumerate(belief_propagation):\n",
    "    print(f' {stage+1}) {\", \".join(variables)}')"
   ]
  },
  {
   "cell_type": "markdown",
   "metadata": {
    "id": "ucXUuLPsH4Jc"
   },
   "source": [
    "## Independent variables"
   ]
  },
  {
   "cell_type": "code",
   "execution_count": 8,
   "metadata": {
    "colab": {
     "base_uri": "https://localhost:8080/",
     "height": 254
    },
    "id": "rfEjQ9TDH4Jf",
    "outputId": "26dec4e4-d772-4679-d20c-9edfd82b88fd"
   },
   "outputs": [
    {
     "data": {
      "image/png": "[encoded data removed]",
      "text/plain": [
       "<Figure size 480x320 with 1 Axes>"
      ]
     },
     "metadata": {
      "image/png": {
       "height": 242,
       "width": 388
      },
      "needs_background": "light"
     },
     "output_type": "display_data"
    }
   ],
   "source": [
    "# We add variables following the order above\n",
    "distributions = {}\n",
    "nodes = {}\n",
    "for variable_name in independent_variables:\n",
    "    probability = statistics[variable_name]\n",
    "    distribution = DiscreteDistribution({'Y': probability, 'N': 1 - probability})\n",
    "    node = Node(distribution, name=variable_name)\n",
    "    distributions[variable_name] = distribution\n",
    "    nodes[variable_name] = node\n",
    "    \n",
    "model.add_states(*nodes.values())\n",
    "figure(dpi=80)\n",
    "model.plot()\n",
    "\n",
    "args = [statistics,ordered_conditionals,ordered_parents,distributions,nodes,model]"
   ]
  },
  {
   "cell_type": "markdown",
   "metadata": {
    "id": "lRHiWLElH4J4"
   },
   "source": [
    "## Infer the conditional probabilities"
   ]
  },
  {
   "cell_type": "code",
   "execution_count": 9,
   "metadata": {
    "colab": {
     "base_uri": "https://localhost:8080/",
     "height": 586
    },
    "id": "opNugm0CH4J7",
    "outputId": "0c52f3ce-e147-4c30-b181-61883fbbb92e"
   },
   "outputs": [
    {
     "name": "stdout",
     "output_type": "stream",
     "text": [
      "Effect: \n",
      "\t Inferred probability = 0.700\n",
      "\t Statistic = 0.7\n"
     ]
    },
    {
     "data": {
      "image/png": "[encoded data removed]",
      "text/plain": [
       "<Figure size 960x640 with 1 Axes>"
      ]
     },
     "metadata": {
      "image/png": {
       "height": 515,
       "width": 334
      },
      "needs_background": "light"
     },
     "output_type": "display_data"
    }
   ],
   "source": [
    "# We add the variable to the model and check that the statistics are consistent\n",
    "add_conditional_variable('Effect',*args,plot=True)\n",
    "\n",
    "# If you are using colab you can use tabs to add sequentially more variables \n",
    "\n",
    "# from google.colab import widgets\n",
    "# tab_variables = ['example2']\n",
    "# tb = widgets.TabBar([str(i) for i in range(len(tab_variables))])\n",
    "# for i, variable_name in enumerate(tab_variables):\n",
    "#   with tb.output_to(i, select=(i < 1)):\n",
    "#     add_conditional_variable(variable_name,*args)\n"
   ]
  },
  {
   "cell_type": "code",
   "execution_count": 10,
   "metadata": {
    "id": "AoD07WgcH4LW"
   },
   "outputs": [],
   "source": [
    "# To make the code more readable you can name the indices of the variables\n",
    "node_list = list(nodes.keys())\n",
    "Cause_index = node_list.index('Cause')\n",
    "Effect_index = node_list.index('Effect')\n"
   ]
  },
  {
   "cell_type": "markdown",
   "metadata": {
    "id": "H_f66qTgH4Ld"
   },
   "source": [
    "## Cause -> Effect\n",
    "P(Cause = 'Y'| Effect = 'Y')\n"
   ]
  },
  {
   "cell_type": "code",
   "execution_count": 11,
   "metadata": {
    "colab": {
     "base_uri": "https://localhost:8080/",
     "height": 71
    },
    "id": "lKkBXEIaH4Lf",
    "outputId": "20f14a99-7923-4ac7-a19c-2a857ccd86c6"
   },
   "outputs": [
    {
     "name": "stdout",
     "output_type": "stream",
     "text": [
      "When C = Cause:\n",
      "Prob(Effect|C): 0.800\n",
      "\n"
     ]
    }
   ],
   "source": [
    "# We create a vector of known and unknown states \n",
    "obs_states = [None]*len(node_list)\n",
    "obs_states[Cause_index] = 'Y'\n",
    "\n",
    "# We calculate the inferenced probabilities \n",
    "# (None target lists the probabilities of all the non observed variable)\n",
    "print_predict_proba(model, nodes, obs_states, target='Effect')   "
   ]
  }
 ],
 "metadata": {
  "colab": {
   "collapsed_sections": [],
   "name": "Practicum_Bayes_Networks.ipynb",
   "provenance": []
  },
  "kernelspec": {
   "display_name": "Python [conda env:AIPractical2]",
   "language": "python",
   "name": "conda-env-AIPractical2-py"
  },
  "language_info": {
   "codemirror_mode": {
    "name": "ipython",
    "version": 3
   },
   "file_extension": ".py",
   "mimetype": "text/x-python",
   "name": "python",
   "nbconvert_exporter": "python",
   "pygments_lexer": "ipython3",
   "version": "3.7.9"
  }
 },
 "nbformat": 4,
 "nbformat_minor": 4
}
